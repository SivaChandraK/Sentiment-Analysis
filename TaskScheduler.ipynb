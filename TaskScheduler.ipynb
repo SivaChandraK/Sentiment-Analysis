{
  "nbformat": 4,
  "nbformat_minor": 0,
  "metadata": {
    "colab": {
      "provenance": []
    },
    "kernelspec": {
      "name": "python3",
      "display_name": "Python 3"
    },
    "language_info": {
      "name": "python"
    }
  },
  "cells": [
    {
      "cell_type": "code",
      "source": [
        "import os\n",
        "import pandas as pd\n",
        "import datetime\n",
        "import requests\n",
        "\n",
        "# ✅ Automatically get the script's folder path\n",
        "script_dir = os.path.dirname(os.path.abspath(__file__))\n",
        "\n",
        "# ✅ Define where to save CSV files (same folder as script)\n",
        "csv_filename = f\"youtube_video_tracking_{datetime.datetime.now().strftime('%Y-%m-%d_%H-%M')}.csv\"\n",
        "csv_filepath = os.path.join(script_dir, csv_filename)\n",
        "\n",
        "# ✅ Log file for debugging\n",
        "log_file = os.path.join(script_dir, \"script_log.txt\")\n",
        "\n",
        "# ✅ Store your API Key (You can store it securely in an environment variable)\n",
        "API_KEY = \"***\"\n",
        "\n",
        "# ✅ List of Video IDs to Track\n",
        "VIDEO_IDS = ['V-Fla5hxMRg', 'jxZ915PvdbU', 'x52g-BpjGHA']\n",
        "\n",
        "# ✅ Function to Fetch Video Stats\n",
        "def fetch_video_stats():\n",
        "    video_data = []\n",
        "    timestamp = datetime.datetime.now().strftime(\"%Y-%m-%d %H:%M:%S\")\n",
        "\n",
        "    for video_id in VIDEO_IDS:\n",
        "        url = f\"https://www.googleapis.com/youtube/v3/videos?key={API_KEY}&id={video_id}&part=snippet,statistics\"\n",
        "        response = requests.get(url).json()\n",
        "\n",
        "        for video in response.get(\"items\", []):\n",
        "            video_data.append({\n",
        "                \"Timestamp\": timestamp,\n",
        "                \"Video ID\": video_id,\n",
        "                \"Video Title\": video[\"snippet\"][\"title\"],\n",
        "                \"Channel Name\": video[\"snippet\"][\"channelTitle\"],\n",
        "                \"Views\": int(video[\"statistics\"][\"viewCount\"]),\n",
        "                \"Likes\": int(video[\"statistics\"].get(\"likeCount\", 0)),\n",
        "                \"Comment Count\": int(video[\"statistics\"].get(\"commentCount\", 0))\n",
        "            })\n",
        "\n",
        "    return video_data\n",
        "\n",
        "# ✅ Function to log messages for debugging\n",
        "def log_message(message):\n",
        "    with open(log_file, \"a\",encoding=\"utf-8\") as log:\n",
        "        log.write(f\"{datetime.datetime.now()} - {message}\\n\")\n",
        "\n",
        "# ✅ Fetch and Save Data\n",
        "try:\n",
        "    log_message(\"Script started\")\n",
        "    video_stats = fetch_video_stats()\n",
        "    df = pd.DataFrame(video_stats)\n",
        "    df.to_csv(csv_filepath, index=False)\n",
        "    log_message(f\"✅ CSV saved successfully: {csv_filepath}\")\n",
        "except Exception as e:\n",
        "    log_message(f\"❌ Error: {str(e)}\")\n",
        "\n",
        "print(f\"✅ Script completed. CSV saved at {csv_filepath}\")\n"
      ],
      "metadata": {
        "id": "5a25H7HA-w5-"
      },
      "execution_count": null,
      "outputs": []
    }
  ]
}