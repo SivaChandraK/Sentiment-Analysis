{
  "nbformat": 4,
  "nbformat_minor": 0,
  "metadata": {
    "colab": {
      "provenance": []
    },
    "kernelspec": {
      "name": "python3",
      "display_name": "Python 3"
    },
    "language_info": {
      "name": "python"
    }
  },
  "cells": [
    {
      "cell_type": "code",
      "source": [
        "import re\n",
        "from getpass import getpass\n",
        "import os\n",
        "import requests\n",
        "import pandas as pd\n",
        "import datetime\n",
        "import os\n",
        "from google.colab import files"
      ],
      "metadata": {
        "id": "TP7SLkSJ2BZ7"
      },
      "execution_count": null,
      "outputs": []
    },
    {
      "cell_type": "code",
      "execution_count": null,
      "metadata": {
        "colab": {
          "base_uri": "https://localhost:8080/"
        },
        "id": "tGJMuSeyyRDQ",
        "outputId": "f5e3517f-b498-4c6c-a0b8-ef69548b5e27"
      },
      "outputs": [
        {
          "output_type": "stream",
          "name": "stdout",
          "text": [
            "Enter a YouTube video URL (or type 'done' to finish): https://www.youtube.com/watch?v=V-Fla5hxMRg&ab_channel=CNBCTelevision\n",
            "✅ Video ID 'V-Fla5hxMRg' added to the list.\n",
            "Enter a YouTube video URL (or type 'done' to finish): https://www.youtube.com/watch?v=jxZ915PvdbU&t=27s&ab_channel=Firstpost\n",
            "✅ Video ID 'jxZ915PvdbU' added to the list.\n",
            "Enter a YouTube video URL (or type 'done' to finish): https://www.youtube.com/watch?v=x52g-BpjGHA&ab_channel=BloombergPodcasts\n",
            "✅ Video ID 'x52g-BpjGHA' added to the list.\n",
            "Enter a YouTube video URL (or type 'done' to finish): done\n",
            "\n",
            "Collected Video IDs: ['V-Fla5hxMRg', 'jxZ915PvdbU', 'x52g-BpjGHA']\n"
          ]
        }
      ],
      "source": [
        "\n",
        "\n",
        "def extract_video_id(youtube_url):\n",
        "    \"\"\"Extracts the video ID from a YouTube URL.\"\"\"\n",
        "    match = re.search(r\"v=([a-zA-Z0-9_-]+)\", youtube_url)\n",
        "    return match.group(1) if match else None\n",
        "\n",
        "# List to store video IDs\n",
        "video_ids = []\n",
        "\n",
        "# Loop to allow multiple entries\n",
        "while True:\n",
        "    url = input(\"Enter a YouTube video URL (or type 'done' to finish): \").strip()\n",
        "\n",
        "    if url.lower() == \"done\":\n",
        "        break  # Exit loop when the user types 'done'\n",
        "\n",
        "    video_id = extract_video_id(url)\n",
        "\n",
        "    if video_id:\n",
        "        video_ids.append(video_id)\n",
        "        print(f\"✅ Video ID '{video_id}' added to the list.\")\n",
        "    else:\n",
        "        print(\"❌ Invalid URL. Please enter a valid YouTube video URL.\")\n",
        "\n",
        "# Display collected video IDs\n",
        "print(\"\\nCollected Video IDs:\", video_ids)\n"
      ]
    },
    {
      "cell_type": "code",
      "source": [
        "\n",
        "\n",
        "# Securely enter API Key (Hidden when typed)\n",
        "os.environ[\"YOUTUBE_API_KEY\"] = getpass(\"Enter your YouTube API Key (It will be hidden): \")\n"
      ],
      "metadata": {
        "colab": {
          "base_uri": "https://localhost:8080/"
        },
        "id": "ocZAtjCDuo-y",
        "outputId": "6bf3927b-4a84-4314-dc09-81a30e3cf9f2"
      },
      "execution_count": null,
      "outputs": [
        {
          "name": "stdout",
          "output_type": "stream",
          "text": [
            "Enter your YouTube API Key (It will be hidden): ··········\n"
          ]
        }
      ]
    },
    {
      "cell_type": "code",
      "source": [
        "API_KEY = os.getenv(\"YOUTUBE_API_KEY\")"
      ],
      "metadata": {
        "id": "uKLpuFaWu1J6"
      },
      "execution_count": null,
      "outputs": []
    },
    {
      "cell_type": "code",
      "source": [
        "\n",
        "\n",
        "# List of Video IDs to check\n",
        "video_ids = ['V-Fla5hxMRg', 'jxZ915PvdbU', 'x52g-BpjGHA']\n",
        "\n",
        "# API request to check video validity\n",
        "url = f\"https://www.googleapis.com/youtube/v3/videos?key={API_KEY}&id={','.join(video_ids)}&part=id\"\n",
        "\n",
        "response = requests.get(url).json()\n",
        "\n",
        "# Extract valid video IDs from API response\n",
        "valid_ids = {item['id'] for item in response.get(\"items\", [])}\n",
        "invalid_ids = set(video_ids) - valid_ids\n",
        "\n",
        "# Output results\n",
        "print(f\"✅ Valid Video IDs: {list(valid_ids)}\")\n",
        "print(f\"❌ Invalid Video IDs: {list(invalid_ids)}\")\n"
      ],
      "metadata": {
        "colab": {
          "base_uri": "https://localhost:8080/"
        },
        "id": "OckYZgUKpMTa",
        "outputId": "d2819869-a4b9-454a-b411-b59bb9b74e1a"
      },
      "execution_count": null,
      "outputs": [
        {
          "output_type": "stream",
          "name": "stdout",
          "text": [
            "✅ Valid Video IDs: ['x52g-BpjGHA', 'V-Fla5hxMRg', 'jxZ915PvdbU']\n",
            "❌ Invalid Video IDs: []\n"
          ]
        }
      ]
    },
    {
      "cell_type": "code",
      "source": [
        "\n",
        "\n",
        "# ✅ Fetch Video Stats Function\n",
        "def fetch_video_stats():\n",
        "    video_data = []\n",
        "    timestamp = datetime.datetime.now().strftime(\"%Y-%m-%d %H:%M:%S\")\n",
        "\n",
        "    for video_id in video_ids:\n",
        "        url = f\"https://www.googleapis.com/youtube/v3/videos?key={API_KEY}&id={video_id}&part=snippet,statistics\"\n",
        "        response = requests.get(url).json()\n",
        "\n",
        "        for video in response.get(\"items\", []):\n",
        "            video_data.append({\n",
        "                \"Timestamp\": timestamp,\n",
        "                \"Video ID\": video_id,\n",
        "                \"Video Title\": video[\"snippet\"][\"title\"],\n",
        "                \"Channel Name\": video[\"snippet\"][\"channelTitle\"],\n",
        "                \"Views\": int(video[\"statistics\"][\"viewCount\"]),\n",
        "                \"Likes\": int(video[\"statistics\"].get(\"likeCount\", 0)),\n",
        "                \"Comment Count\": int(video[\"statistics\"].get(\"commentCount\", 0))\n",
        "            })\n",
        "\n",
        "    return video_data\n"
      ],
      "metadata": {
        "id": "YisFfoAp19c6"
      },
      "execution_count": null,
      "outputs": []
    },
    {
      "cell_type": "code",
      "source": [
        "# ✅ Save data locally in Colab\n",
        "def save_data_to_csv(data, filename):\n",
        "    df = pd.DataFrame(data)\n",
        "    df.to_csv(filename, index=False)\n",
        "    print(f\"✅ Data saved: {filename}\")"
      ],
      "metadata": {
        "id": "EmeBhY0W2-fS"
      },
      "execution_count": null,
      "outputs": []
    },
    {
      "cell_type": "code",
      "source": [
        "csv_filename = \"youtube_video_metrics.csv\"\n",
        "video_stats = fetch_video_stats()\n",
        "save_data_to_csv(video_stats, csv_filename)\n",
        "# ✅ Provide Download Link\n",
        "files.download(csv_filename)"
      ],
      "metadata": {
        "colab": {
          "base_uri": "https://localhost:8080/",
          "height": 34
        },
        "id": "JDaahZRRzdHi",
        "outputId": "0c095a07-77fe-47b0-9bcd-c8e59104835c"
      },
      "execution_count": null,
      "outputs": [
        {
          "output_type": "stream",
          "name": "stdout",
          "text": [
            "✅ Data saved: youtube_video_metrics.csv\n"
          ]
        },
        {
          "output_type": "display_data",
          "data": {
            "text/plain": [
              "<IPython.core.display.Javascript object>"
            ],
            "application/javascript": [
              "\n",
              "    async function download(id, filename, size) {\n",
              "      if (!google.colab.kernel.accessAllowed) {\n",
              "        return;\n",
              "      }\n",
              "      const div = document.createElement('div');\n",
              "      const label = document.createElement('label');\n",
              "      label.textContent = `Downloading \"${filename}\": `;\n",
              "      div.appendChild(label);\n",
              "      const progress = document.createElement('progress');\n",
              "      progress.max = size;\n",
              "      div.appendChild(progress);\n",
              "      document.body.appendChild(div);\n",
              "\n",
              "      const buffers = [];\n",
              "      let downloaded = 0;\n",
              "\n",
              "      const channel = await google.colab.kernel.comms.open(id);\n",
              "      // Send a message to notify the kernel that we're ready.\n",
              "      channel.send({})\n",
              "\n",
              "      for await (const message of channel.messages) {\n",
              "        // Send a message to notify the kernel that we're ready.\n",
              "        channel.send({})\n",
              "        if (message.buffers) {\n",
              "          for (const buffer of message.buffers) {\n",
              "            buffers.push(buffer);\n",
              "            downloaded += buffer.byteLength;\n",
              "            progress.value = downloaded;\n",
              "          }\n",
              "        }\n",
              "      }\n",
              "      const blob = new Blob(buffers, {type: 'application/binary'});\n",
              "      const a = document.createElement('a');\n",
              "      a.href = window.URL.createObjectURL(blob);\n",
              "      a.download = filename;\n",
              "      div.appendChild(a);\n",
              "      a.click();\n",
              "      div.remove();\n",
              "    }\n",
              "  "
            ]
          },
          "metadata": {}
        },
        {
          "output_type": "display_data",
          "data": {
            "text/plain": [
              "<IPython.core.display.Javascript object>"
            ],
            "application/javascript": [
              "download(\"download_003d7c91-e0b3-4e73-b64d-7eb1f7eee78d\", \"youtube_video_metrics.csv\", 486)"
            ]
          },
          "metadata": {}
        }
      ]
    },
    {
      "cell_type": "code",
      "source": [
        "import requests\n",
        "import pandas as pd\n",
        "import datetime\n",
        "import os\n",
        "from google.colab import files  # ✅ For downloading CSV in Colab\n",
        "\n",
        "# ✅ Define local file path for saving CSV\n",
        "csv_filename = f\"youtube_comments_{datetime.datetime.now().strftime('%Y-%m-%d_%H-%M')}.csv\"\n",
        "\n",
        "# ✅ List of Video IDs to Track\n",
        "VIDEO_IDS = [\"V-Fla5hxMRg\", \"jxZ915PvdbU\", \"x52g-BpjGHA\"]  # Replace with actual video IDs\n",
        "\n",
        "# ✅ Function to Fetch All Top-Level Comments Using Pagination\n",
        "def fetch_all_comments(video_id):\n",
        "    comments_data = []\n",
        "    url = f\"https://www.googleapis.com/youtube/v3/commentThreads?key={API_KEY}&videoId={video_id}&part=snippet&maxResults=100\"\n",
        "\n",
        "    while url:\n",
        "        response = requests.get(url).json()\n",
        "\n",
        "        # ✅ Extract comments\n",
        "        for item in response.get(\"items\", []):\n",
        "            comment = item[\"snippet\"][\"topLevelComment\"][\"snippet\"]\n",
        "            comments_data.append({\n",
        "                \"Video ID\": video_id,\n",
        "                \"Channel Name\": item[\"snippet\"][\"channelId\"],  # Fetch channel ID (can be mapped later)\n",
        "                \"Comment Author\": comment[\"authorDisplayName\"],\n",
        "                \"Comment Text\": comment[\"textDisplay\"],\n",
        "                \"Published At\": comment[\"publishedAt\"],\n",
        "                \"Like Count\": comment[\"likeCount\"]\n",
        "            })\n",
        "\n",
        "        # ✅ Check if more comments exist (Pagination)\n",
        "        url = response.get(\"nextPageToken\")\n",
        "        if url:\n",
        "            url = f\"https://www.googleapis.com/youtube/v3/commentThreads?key={API_KEY}&videoId={video_id}&part=snippet&maxResults=100&pageToken={url}\"\n",
        "        else:\n",
        "            break  # No more pages\n",
        "\n",
        "    return comments_data\n",
        "\n",
        "# ✅ Fetch and Save Comments for Each Video\n",
        "all_comments = []\n",
        "for video_id in VIDEO_IDS:\n",
        "    all_comments.extend(fetch_all_comments(video_id))\n",
        "\n",
        "# ✅ Convert to DataFrame and Save as CSV\n",
        "df = pd.DataFrame(all_comments)\n",
        "df.to_csv(csv_filename, index=False)\n",
        "\n",
        "# ✅ Download the CSV file automatically in Colab\n",
        "files.download(csv_filename)\n",
        "\n",
        "print(f\"✅ All YouTube comments saved and downloading: {csv_filename}\")\n"
      ],
      "metadata": {
        "id": "zeMd2T85SWnS"
      },
      "execution_count": null,
      "outputs": []
    },
    {
      "cell_type": "code",
      "source": [
        "\n",
        "\n",
        "# ✅ Define local file path for saving CSV\n",
        "csv_filename = f\"youtube_comments_{datetime.datetime.now().strftime('%Y-%m-%d_%H-%M')}.csv\"\n",
        "log_filename = \"youtube_comments_log.txt\"  # Log file to track errors\n",
        "\n",
        "# ✅ List of Video IDs to Track\n",
        "VIDEO_IDS = [\"V-Fla5hxMRg\", \"jxZ915PvdbU\", \"x52g-BpjGHA\"]  # Replace with actual video IDs\n",
        "\n",
        "# ✅ Function to Log Messages (Debugging & API Limit Tracking)\n",
        "def log_message(message):\n",
        "    with open(log_filename, \"a\", encoding=\"utf-8\") as log_file:\n",
        "        log_file.write(f\"{datetime.datetime.now()} - {message}\\n\")\n",
        "    print(message)  # Also print message in Colab output\n",
        "\n",
        "# ✅ Function to Fetch All Top-Level Comments with API Limit Check\n",
        "def fetch_all_comments(video_id):\n",
        "    comments_data = []\n",
        "    url = f\"https://www.googleapis.com/youtube/v3/commentThreads?key={API_KEY}&videoId={video_id}&part=snippet&maxResults=100\"\n",
        "    total_comments_fetched = 0  # Track total comments\n",
        "\n",
        "    while url:\n",
        "        response = requests.get(url).json()\n",
        "\n",
        "        # ✅ Check for API errors\n",
        "        if \"error\" in response:\n",
        "            error_message = response[\"error\"][\"errors\"][0][\"reason\"]\n",
        "            log_message(f\"❌ API Error for Video {video_id}: {error_message}\")\n",
        "            if error_message == \"quotaExceeded\":\n",
        "                log_message(\"⚠️ API quota limit reached. Stopping script.\")\n",
        "                return comments_data  # Stop fetching\n",
        "            break\n",
        "\n",
        "        # ✅ Extract comments\n",
        "        for item in response.get(\"items\", []):\n",
        "            comment = item[\"snippet\"][\"topLevelComment\"][\"snippet\"]\n",
        "            comments_data.append({\n",
        "                \"Video ID\": video_id,\n",
        "                \"Channel Name\": item[\"snippet\"][\"channelId\"],  # Fetch channel ID (can be mapped later)\n",
        "                \"Comment Author\": comment[\"authorDisplayName\"],\n",
        "                \"Comment Text\": comment[\"textDisplay\"],\n",
        "                \"Published At\": comment[\"publishedAt\"],\n",
        "                \"Like Count\": comment[\"likeCount\"]\n",
        "            })\n",
        "            total_comments_fetched += 1  # Count comments\n",
        "\n",
        "        # ✅ Check for more pages (Pagination)\n",
        "        next_page = response.get(\"nextPageToken\")\n",
        "        if next_page:\n",
        "            url = f\"https://www.googleapis.com/youtube/v3/commentThreads?key={API_KEY}&videoId={video_id}&part=snippet&maxResults=100&pageToken={next_page}\"\n",
        "        else:\n",
        "            break  # No more pages\n",
        "\n",
        "    log_message(f\"✅ Successfully fetched {total_comments_fetched} comments for Video {video_id}\")\n",
        "    return comments_data\n",
        "\n",
        "# ✅ Fetch and Save Comments for Each Video\n",
        "all_comments = []\n",
        "for video_id in VIDEO_IDS:\n",
        "    all_comments.extend(fetch_all_comments(video_id))\n",
        "\n",
        "# ✅ Convert to DataFrame and Save as CSV\n",
        "df = pd.DataFrame(all_comments)\n",
        "df.to_csv(csv_filename, index=False)\n",
        "\n",
        "# ✅ Download the CSV file automatically in Colab\n",
        "files.download(csv_filename)\n",
        "\n",
        "print(f\"✅ All YouTube comments saved and downloading: {csv_filename}\")\n",
        "log_message(f\"✅ Script completed successfully. Comments saved in {csv_filename}\")\n"
      ],
      "metadata": {
        "colab": {
          "base_uri": "https://localhost:8080/",
          "height": 104
        },
        "id": "jNUdnrpeTCP8",
        "outputId": "3edda356-36e8-470b-f58f-6c3b6b12351f"
      },
      "execution_count": null,
      "outputs": [
        {
          "output_type": "stream",
          "name": "stdout",
          "text": [
            "✅ Successfully fetched 5444 comments for Video V-Fla5hxMRg\n",
            "✅ Successfully fetched 1841 comments for Video jxZ915PvdbU\n",
            "✅ Successfully fetched 341 comments for Video x52g-BpjGHA\n"
          ]
        },
        {
          "output_type": "display_data",
          "data": {
            "text/plain": [
              "<IPython.core.display.Javascript object>"
            ],
            "application/javascript": [
              "\n",
              "    async function download(id, filename, size) {\n",
              "      if (!google.colab.kernel.accessAllowed) {\n",
              "        return;\n",
              "      }\n",
              "      const div = document.createElement('div');\n",
              "      const label = document.createElement('label');\n",
              "      label.textContent = `Downloading \"${filename}\": `;\n",
              "      div.appendChild(label);\n",
              "      const progress = document.createElement('progress');\n",
              "      progress.max = size;\n",
              "      div.appendChild(progress);\n",
              "      document.body.appendChild(div);\n",
              "\n",
              "      const buffers = [];\n",
              "      let downloaded = 0;\n",
              "\n",
              "      const channel = await google.colab.kernel.comms.open(id);\n",
              "      // Send a message to notify the kernel that we're ready.\n",
              "      channel.send({})\n",
              "\n",
              "      for await (const message of channel.messages) {\n",
              "        // Send a message to notify the kernel that we're ready.\n",
              "        channel.send({})\n",
              "        if (message.buffers) {\n",
              "          for (const buffer of message.buffers) {\n",
              "            buffers.push(buffer);\n",
              "            downloaded += buffer.byteLength;\n",
              "            progress.value = downloaded;\n",
              "          }\n",
              "        }\n",
              "      }\n",
              "      const blob = new Blob(buffers, {type: 'application/binary'});\n",
              "      const a = document.createElement('a');\n",
              "      a.href = window.URL.createObjectURL(blob);\n",
              "      a.download = filename;\n",
              "      div.appendChild(a);\n",
              "      a.click();\n",
              "      div.remove();\n",
              "    }\n",
              "  "
            ]
          },
          "metadata": {}
        },
        {
          "output_type": "display_data",
          "data": {
            "text/plain": [
              "<IPython.core.display.Javascript object>"
            ],
            "application/javascript": [
              "download(\"download_f7f1e663-9cd8-443f-8358-760fab87ec11\", \"youtube_comments_2025-01-30_17-41.csv\", 1582569)"
            ]
          },
          "metadata": {}
        },
        {
          "output_type": "stream",
          "name": "stdout",
          "text": [
            "✅ All YouTube comments saved and downloading: youtube_comments_2025-01-30_17-41.csv\n",
            "✅ Script completed successfully. Comments saved in youtube_comments_2025-01-30_17-41.csv\n"
          ]
        }
      ]
    }
  ]
}